{
  "nbformat": 4,
  "nbformat_minor": 0,
  "metadata": {
    "colab": {
      "provenance": []
    },
    "kernelspec": {
      "name": "python3",
      "display_name": "Python 3"
    },
    "language_info": {
      "name": "python"
    }
  },
  "cells": [
    {
      "cell_type": "code",
      "execution_count": null,
      "metadata": {
        "id": "wwHqnlrKDZvY"
      },
      "outputs": [],
      "source": []
    },
    {
      "source": [
        "def bfs_queue(graph, start):\n",
        "\n",
        "\n",
        "    queue = [start]\n",
        "    visited = set()\n",
        "    visited.add(start)\n",
        "\n",
        "    while queue:\n",
        "        node = queue.pop(0)\n",
        "        print(node)\n",
        "\n",
        "\n",
        "        for adjacent in graph[node]:\n",
        "            if adjacent not in visited:\n",
        "                queue.append(adjacent)\n",
        "                visited.add(adjacent)\n",
        "\n",
        "graph = {\n",
        "    0: [1, 2],\n",
        "    1: [5],\n",
        "    2: [3, 4],\n",
        "    3: [],\n",
        "    4: [],\n",
        "    5: [],\n",
        "}\n",
        "\n",
        "bfs_queue(graph, 0)\n"
      ],
      "cell_type": "code",
      "metadata": {
        "colab": {
          "base_uri": "https://localhost:8080/"
        },
        "id": "ZHjW3AdBD36X",
        "outputId": "c535463b-52b1-4476-9181-7d5c8595997f"
      },
      "execution_count": 5,
      "outputs": [
        {
          "output_type": "stream",
          "name": "stdout",
          "text": [
            "0\n",
            "1\n",
            "2\n",
            "5\n",
            "3\n",
            "4\n"
          ]
        }
      ]
    },
    {
      "cell_type": "code",
      "source": [
        "def dfs_stack(graph, start):\n",
        "\n",
        "\n",
        "    stack = [start]\n",
        "    visited = set()\n",
        "    visited.add(start)\n",
        "\n",
        "    traversal_order = []\n",
        "\n",
        "    while stack:\n",
        "        node = stack.pop()\n",
        "        traversal_order.append(node)\n",
        "\n",
        "        for adjacent in sorted(graph[node]):\n",
        "            if adjacent not in visited:\n",
        "                stack.append(adjacent)\n",
        "                visited.add(adjacent)\n",
        "\n",
        "    return traversal_order\n",
        "\n",
        "\n",
        "graph = {\n",
        "    \"A\": [\"B\", \"D\"],\n",
        "    \"B\": [\"C\", \"E\"],\n",
        "    \"C\": [\"S\", \"F\"],\n",
        "    \"D\": [\"G\", \"H\"],\n",
        "    \"E\": [],\n",
        "    \"F\": [],\n",
        "    \"G\": [],\n",
        "    \"H\": [],\n",
        "    \"S\": [],\n",
        "}\n",
        "\n",
        "traversal_order = dfs_stack(graph, \"A\")\n",
        "print(traversal_order)\n"
      ],
      "metadata": {
        "colab": {
          "base_uri": "https://localhost:8080/"
        },
        "id": "ZqaZ_xyFFckE",
        "outputId": "b93c1596-d364-4649-f04c-a75b241f858c"
      },
      "execution_count": 4,
      "outputs": [
        {
          "output_type": "stream",
          "name": "stdout",
          "text": [
            "['A', 'D', 'H', 'G', 'B', 'E', 'C', 'S', 'F']\n"
          ]
        }
      ]
    },
    {
      "cell_type": "code",
      "source": [
        "import numpy as np\n",
        "import heapq\n",
        "\n",
        "def astar_numpy(graph, start, goal):\n",
        "\n",
        "\n",
        "  # Initialize arrays\n",
        "  visited = np.zeros_like(graph, dtype=bool)\n",
        "  g_scores = np.full_like(graph, np.inf)\n",
        "  f_scores = np.full_like(graph, np.inf)\n",
        "\n",
        "  # Set start node values\n",
        "  g_scores[start] = 0\n",
        "  f_scores[start] = heuristic(start, goal)\n",
        "\n",
        "  # Priority queue using heapq (not NumPy-specific)\n",
        "  queue = [(f_scores[start], start)]\n",
        "\n",
        "  while queue:\n",
        "    _, current = heapq.heappop(queue)\n",
        "\n",
        "    if current == goal:\n",
        "      # Reconstruct path from g_scores\n",
        "      path = [current]\n",
        "      while current != start:\n",
        "        current = np.argmin(g_scores[:current])\n",
        "        path.append(current)\n",
        "      return path[::-1]  # Reverse path\n",
        "\n",
        "    visited[current] = True\n",
        "\n",
        "    # Explore neighbors\n",
        "    for neighbor, cost in enumerate(graph[current]):\n",
        "      if not visited[neighbor] and cost != np.inf:\n",
        "        tentative_g_score = g_scores[current] + cost\n",
        "        if tentative_g_score < g_scores[neighbor]:\n",
        "          g_scores[neighbor] = tentative_g_score\n",
        "          f_scores[neighbor] = g_scores[neighbor] + heuristic(neighbor, goal)\n",
        "          heapq.heappush(queue, (f_scores[neighbor], neighbor))\n",
        "\n",
        "  return None  # No path found\n",
        "\n",
        "def heuristic(node, goal):\n",
        "\n",
        "  x1, y1 = divmod(node, graph.shape[0])  # Convert index to (x,y) coordinates\n",
        "  x2, y2 = divmod(goal, graph.shape[0])\n",
        "  return abs(x1 - x2) + abs(y1 - y2)\n"
      ],
      "metadata": {
        "id": "qATIL9k1GdLc"
      },
      "execution_count": 9,
      "outputs": []
    }
  ]
}